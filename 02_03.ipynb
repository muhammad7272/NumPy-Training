{
 "cells": [
  {
   "cell_type": "code",
   "execution_count": 1,
   "id": "a4f83e12-c2cf-4fe1-b502-d06d4af20191",
   "metadata": {},
   "outputs": [],
   "source": [
    "import numpy as np\n",
    "first_list = [1,2,3,4,5,6,7,8,9,10]"
   ]
  },
  {
   "cell_type": "code",
   "execution_count": 3,
   "id": "7d683b33-8e13-48a3-ab3f-50970967d658",
   "metadata": {},
   "outputs": [
    {
     "data": {
      "text/plain": [
       "[1, 2, 3, 4, 5, 6, 7, 8, 9, 10]"
      ]
     },
     "execution_count": 3,
     "metadata": {},
     "output_type": "execute_result"
    }
   ],
   "source": [
    "first_list"
   ]
  },
  {
   "cell_type": "code",
   "execution_count": 5,
   "id": "7169d416-de93-4513-a953-0299665cba93",
   "metadata": {},
   "outputs": [],
   "source": [
    "first_array=np.array(first_list)"
   ]
  },
  {
   "cell_type": "code",
   "execution_count": 7,
   "id": "343963ff-d513-4fbb-8969-41a99adacdcc",
   "metadata": {},
   "outputs": [
    {
     "data": {
      "text/plain": [
       "array([ 1,  2,  3,  4,  5,  6,  7,  8,  9, 10])"
      ]
     },
     "execution_count": 7,
     "metadata": {},
     "output_type": "execute_result"
    }
   ],
   "source": [
    "first_array"
   ]
  },
  {
   "cell_type": "code",
   "execution_count": 9,
   "id": "27728d19-38ee-47cc-a6c1-7275ce010412",
   "metadata": {},
   "outputs": [],
   "source": [
    "second_list = [1,2,3,-1.23,50,128000.56,4.56]"
   ]
  },
  {
   "cell_type": "code",
   "execution_count": 11,
   "id": "49cdf07f-7d21-44c8-8d23-d309d5736adf",
   "metadata": {},
   "outputs": [],
   "source": [
    "second_array=np.array(second_list)"
   ]
  },
  {
   "cell_type": "code",
   "execution_count": 13,
   "id": "473d089c-679c-4e8d-839e-7f680338df2b",
   "metadata": {},
   "outputs": [
    {
     "data": {
      "text/plain": [
       "array([ 1.0000000e+00,  2.0000000e+00,  3.0000000e+00, -1.2300000e+00,\n",
       "        5.0000000e+01,  1.2800056e+05,  4.5600000e+00])"
      ]
     },
     "execution_count": 13,
     "metadata": {},
     "output_type": "execute_result"
    }
   ],
   "source": [
    "second_array"
   ]
  },
  {
   "cell_type": "code",
   "execution_count": 15,
   "id": "656acbe0-43ed-45cb-bfb4-68d7a4e03b39",
   "metadata": {},
   "outputs": [
    {
     "data": {
      "text/plain": [
       "dtype('float64')"
      ]
     },
     "execution_count": 15,
     "metadata": {},
     "output_type": "execute_result"
    }
   ],
   "source": [
    "second_array.dtype"
   ]
  },
  {
   "cell_type": "code",
   "execution_count": 19,
   "id": "c5b84dbd-eee0-4a01-84a8-cabc2e46be89",
   "metadata": {},
   "outputs": [
    {
     "data": {
      "text/plain": [
       "dtype('float64')"
      ]
     },
     "execution_count": 19,
     "metadata": {},
     "output_type": "execute_result"
    }
   ],
   "source": [
    "second_array.dtype"
   ]
  },
  {
   "cell_type": "code",
   "execution_count": 21,
   "id": "07eefe60-b373-400a-bf34-edad2b74c3d5",
   "metadata": {},
   "outputs": [],
   "source": [
    "third_list = ['Ann',111111,'Peter',111112,'Susan',111113,'John',111114]"
   ]
  },
  {
   "cell_type": "code",
   "execution_count": 23,
   "id": "cf94c6d7-5af0-4454-ae8d-1725955a0953",
   "metadata": {},
   "outputs": [],
   "source": [
    "third_array=np.array(third_list)"
   ]
  },
  {
   "cell_type": "code",
   "execution_count": 25,
   "id": "45e55762-3a4b-419b-a2aa-e0d5de61e7ff",
   "metadata": {},
   "outputs": [
    {
     "data": {
      "text/plain": [
       "array(['Ann', '111111', 'Peter', '111112', 'Susan', '111113', 'John',\n",
       "       '111114'], dtype='<U11')"
      ]
     },
     "execution_count": 25,
     "metadata": {},
     "output_type": "execute_result"
    }
   ],
   "source": [
    "third_array"
   ]
  },
  {
   "cell_type": "code",
   "execution_count": 27,
   "id": "d068b3bc-2264-45a8-a006-d38ffcf10456",
   "metadata": {},
   "outputs": [],
   "source": [
    "first_tuple = [5,10,15,20,25,30]"
   ]
  },
  {
   "cell_type": "code",
   "execution_count": 29,
   "id": "bfb35441-208c-484b-91d1-9328d7f06358",
   "metadata": {},
   "outputs": [],
   "source": [
    "array_from_tuple=np.array(first_tuple)"
   ]
  },
  {
   "cell_type": "code",
   "execution_count": 31,
   "id": "7560fd0a-a242-4d53-9723-deb496eb0648",
   "metadata": {},
   "outputs": [
    {
     "data": {
      "text/plain": [
       "array([ 5, 10, 15, 20, 25, 30])"
      ]
     },
     "execution_count": 31,
     "metadata": {},
     "output_type": "execute_result"
    }
   ],
   "source": [
    "array_from_tuple"
   ]
  },
  {
   "cell_type": "code",
   "execution_count": 33,
   "id": "bb4d0e82-6ebe-4012-961f-c32dd747f456",
   "metadata": {},
   "outputs": [
    {
     "data": {
      "text/plain": [
       "dtype('int32')"
      ]
     },
     "execution_count": 33,
     "metadata": {},
     "output_type": "execute_result"
    }
   ],
   "source": [
    "array_from_tuple.dtype"
   ]
  },
  {
   "cell_type": "code",
   "execution_count": 35,
   "id": "7b1acdea-3921-4763-9c68-17a897442665",
   "metadata": {},
   "outputs": [],
   "source": [
    "multi_dim_list = [[[0,1,2],[3,4,5]],[[6,7,8],[9,10,11]]]"
   ]
  },
  {
   "cell_type": "code",
   "execution_count": 37,
   "id": "f78c45f9-393f-470a-a3ef-39904174618b",
   "metadata": {},
   "outputs": [],
   "source": [
    "arr_from_multi_dim_list=np.array(multi_dim_list)"
   ]
  },
  {
   "cell_type": "code",
   "execution_count": 39,
   "id": "233f151e-e524-43b4-942d-458965f4e031",
   "metadata": {},
   "outputs": [
    {
     "data": {
      "text/plain": [
       "array([[[ 0,  1,  2],\n",
       "        [ 3,  4,  5]],\n",
       "\n",
       "       [[ 6,  7,  8],\n",
       "        [ 9, 10, 11]]])"
      ]
     },
     "execution_count": 39,
     "metadata": {},
     "output_type": "execute_result"
    }
   ],
   "source": [
    "arr_from_multi_dim_list"
   ]
  },
  {
   "cell_type": "code",
   "execution_count": null,
   "id": "db39198f-e80e-4a49-a99f-4fcc0dc4e9c0",
   "metadata": {},
   "outputs": [],
   "source": []
  }
 ],
 "metadata": {
  "kernelspec": {
   "display_name": "Python [conda env:base] *",
   "language": "python",
   "name": "conda-base-py"
  },
  "language_info": {
   "codemirror_mode": {
    "name": "ipython",
    "version": 3
   },
   "file_extension": ".py",
   "mimetype": "text/x-python",
   "name": "python",
   "nbconvert_exporter": "python",
   "pygments_lexer": "ipython3",
   "version": "3.12.7"
  }
 },
 "nbformat": 4,
 "nbformat_minor": 5
}
