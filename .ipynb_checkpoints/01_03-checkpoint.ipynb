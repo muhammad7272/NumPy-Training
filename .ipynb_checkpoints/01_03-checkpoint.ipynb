{
 "cells": [
  {
   "cell_type": "code",
   "execution_count": 20,
   "id": "3b79c8e5-005c-4ae9-b7d2-8cb0be1959de",
   "metadata": {},
   "outputs": [
    {
     "name": "stdout",
     "output_type": "stream",
     "text": [
      "hello NumPy\n"
     ]
    }
   ],
   "source": [
    "print('hello NumPy')"
   ]
  },
  {
   "cell_type": "code",
   "execution_count": 24,
   "id": "6149cc97-b04a-4aa4-9741-b93773ce0d2c",
   "metadata": {},
   "outputs": [
    {
     "name": "stdout",
     "output_type": "stream",
     "text": [
      "hello Ali\n"
     ]
    }
   ],
   "source": [
    "print('hello Ali')"
   ]
  },
  {
   "cell_type": "code",
   "execution_count": 26,
   "id": "8e434e4c-795b-470e-a1b2-2399729b1a3e",
   "metadata": {},
   "outputs": [
    {
     "data": {
      "text/plain": [
       "42"
      ]
     },
     "execution_count": 26,
     "metadata": {},
     "output_type": "execute_result"
    }
   ],
   "source": [
    "2+8*5"
   ]
  }
 ],
 "metadata": {
  "kernelspec": {
   "display_name": "Python [conda env:base] *",
   "language": "python",
   "name": "conda-base-py"
  },
  "language_info": {
   "codemirror_mode": {
    "name": "ipython",
    "version": 3
   },
   "file_extension": ".py",
   "mimetype": "text/x-python",
   "name": "python",
   "nbconvert_exporter": "python",
   "pygments_lexer": "ipython3",
   "version": "3.12.7"
  }
 },
 "nbformat": 4,
 "nbformat_minor": 5
}
