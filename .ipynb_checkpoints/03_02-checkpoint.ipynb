{
 "cells": [
  {
   "cell_type": "markdown",
   "id": "3d948ee9-093a-483f-850a-a6a0e6aa32c9",
   "metadata": {},
   "source": [
    "Copies and Views"
   ]
  },
  {
   "cell_type": "code",
   "execution_count": 2,
   "id": "d117f640-66e6-4bd8-b18e-a968d42e48ab",
   "metadata": {},
   "outputs": [],
   "source": [
    "import numpy as np"
   ]
  },
  {
   "cell_type": "code",
   "execution_count": 6,
   "id": "80a74faa-0220-42f7-9f2d-295b3bd39296",
   "metadata": {},
   "outputs": [
    {
     "data": {
      "text/plain": [
       "array([1111, 1212, 1313, 1414, 1515, 1616, 1717, 1818])"
      ]
     },
     "execution_count": 6,
     "metadata": {},
     "output_type": "execute_result"
    }
   ],
   "source": [
    "students_ids_number=np.array([1111,1212,1313,1414,1515,1616,1717,1818])\n",
    "students_ids_number"
   ]
  },
  {
   "cell_type": "code",
   "execution_count": 8,
   "id": "2cd1c9e4-83af-4a3b-afb9-fe929877adff",
   "metadata": {},
   "outputs": [
    {
     "name": "stdout",
     "output_type": "stream",
     "text": [
      "id of students_ids_number 1720275324144\n",
      "id of students_ids_number 1720275324144\n"
     ]
    }
   ],
   "source": [
    "students_ids_number_reg=students_ids_number\n",
    "print(\"id of stu_ids_number\",id(students_ids_number))\n",
    "print(\"id of stu_ids_number\",id(students_ids_number_reg))"
   ]
  },
  {
   "cell_type": "code",
   "execution_count": 12,
   "id": "aa7a96c1-548a-4860-91d6-2d652e172141",
   "metadata": {},
   "outputs": [
    {
     "name": "stdout",
     "output_type": "stream",
     "text": [
      "[1111 2222 1313 1414 1515 1616 1717 1818]\n",
      "[1111 2222 1313 1414 1515 1616 1717 1818]\n"
     ]
    }
   ],
   "source": [
    "students_ids_number_reg[1]=2222\n",
    "print(students_ids_number)\n",
    "print(students_ids_number_reg)"
   ]
  },
  {
   "cell_type": "code",
   "execution_count": 14,
   "id": "409972a5-993e-40fe-8017-41aef6e33ebd",
   "metadata": {},
   "outputs": [
    {
     "name": "stdout",
     "output_type": "stream",
     "text": [
      "[1111 2222 1313 1414 1515 1616 1717 1818]\n"
     ]
    }
   ],
   "source": [
    "students_ids_number_cp=students_ids_number.copy()\n",
    "print(students_ids_number_cp)"
   ]
  },
  {
   "cell_type": "code",
   "execution_count": 16,
   "id": "17dbbcaa-dc42-4441-9d37-fefcf4ac1fc4",
   "metadata": {},
   "outputs": [
    {
     "name": "stdout",
     "output_type": "stream",
     "text": [
      "[ True  True  True  True  True  True  True  True]\n"
     ]
    }
   ],
   "source": [
    "print(students_ids_number_cp==students_ids_number)"
   ]
  },
  {
   "cell_type": "code",
   "execution_count": 18,
   "id": "b814ad5a-d1bc-43dc-bdf8-b8a6d8bbf583",
   "metadata": {},
   "outputs": [
    {
     "name": "stdout",
     "output_type": "stream",
     "text": [
      "id of students_ids_number 1720275324144\n",
      "id of students_ids_number_cp 1720309129808\n"
     ]
    }
   ],
   "source": [
    "print(\"id of students_ids_number\",id(students_ids_number))\n",
    "print(\"id of students_ids_number_cp\",id(students_ids_number_cp))"
   ]
  },
  {
   "cell_type": "code",
   "execution_count": 20,
   "id": "e89c187b-c1ab-413b-aa28-550168fe0131",
   "metadata": {},
   "outputs": [
    {
     "name": "stdout",
     "output_type": "stream",
     "text": [
      "original [1000 2222 1313 1414 1515 1616 1717 1818]\n",
      "copy [1111 2222 1313 1414 1515 1616 1717 1818]\n"
     ]
    }
   ],
   "source": [
    "students_ids_number[0]=1000\n",
    "print(\"original\",students_ids_number)\n",
    "print(\"copy\",students_ids_number_cp)"
   ]
  },
  {
   "cell_type": "code",
   "execution_count": 26,
   "id": "9562a816-e5d0-4094-afbb-695906c97aa6",
   "metadata": {},
   "outputs": [
    {
     "name": "stdout",
     "output_type": "stream",
     "text": [
      "[1000 2222 1313 1414 1515 1616 1717 1818]\n"
     ]
    }
   ],
   "source": [
    "print(students_ids_number)"
   ]
  },
  {
   "cell_type": "code",
   "execution_count": 28,
   "id": "d8a1d814-ff07-4edc-a729-93c794119c3c",
   "metadata": {},
   "outputs": [],
   "source": [
    "students_ids_number_v=students_ids_number.view()"
   ]
  },
  {
   "cell_type": "code",
   "execution_count": 30,
   "id": "89dcc17a-e0e8-46d5-82fd-4fd6245045f4",
   "metadata": {},
   "outputs": [
    {
     "name": "stdout",
     "output_type": "stream",
     "text": [
      "Original [2000 2222 1313 1414 1515 1616 1717 1818]\n",
      "View [2000 2222 1313 1414 1515 1616 1717 1818]\n"
     ]
    }
   ],
   "source": [
    "students_ids_number_v[0]=2000\n",
    "print(\"Original\",students_ids_number)\n",
    "print(\"View\",students_ids_number_v)"
   ]
  },
  {
   "cell_type": "code",
   "execution_count": 32,
   "id": "7a5a3d6d-74ac-4276-be9d-d2b873d8e493",
   "metadata": {},
   "outputs": [
    {
     "name": "stdout",
     "output_type": "stream",
     "text": [
      "None\n",
      "[2000 2222 1313 1414 1515 1616 1717 1818]\n"
     ]
    }
   ],
   "source": [
    "print(students_ids_number_cp.base)\n",
    "print(students_ids_number_v.base)"
   ]
  }
 ],
 "metadata": {
  "kernelspec": {
   "display_name": "Python [conda env:base] *",
   "language": "python",
   "name": "conda-base-py"
  },
  "language_info": {
   "codemirror_mode": {
    "name": "ipython",
    "version": 3
   },
   "file_extension": ".py",
   "mimetype": "text/x-python",
   "name": "python",
   "nbconvert_exporter": "python",
   "pygments_lexer": "ipython3",
   "version": "3.12.7"
  }
 },
 "nbformat": 4,
 "nbformat_minor": 5
}
