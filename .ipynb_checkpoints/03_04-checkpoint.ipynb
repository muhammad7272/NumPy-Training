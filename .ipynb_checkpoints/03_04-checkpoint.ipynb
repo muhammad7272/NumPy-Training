{
 "cells": [
  {
   "cell_type": "markdown",
   "id": "8a8dcd0d-78d4-419a-9a0e-a775e1a10903",
   "metadata": {},
   "source": [
    "Array Indexing and Slicing"
   ]
  },
  {
   "cell_type": "code",
   "execution_count": null,
   "id": "d5651182-fbee-4ae9-987a-8d27026257cd",
   "metadata": {},
   "outputs": [],
   "source": []
  }
 ],
 "metadata": {
  "kernelspec": {
   "display_name": "Python [conda env:base] *",
   "language": "python",
   "name": "conda-base-py"
  },
  "language_info": {
   "codemirror_mode": {
    "name": "ipython",
    "version": 3
   },
   "file_extension": ".py",
   "mimetype": "text/x-python",
   "name": "python",
   "nbconvert_exporter": "python",
   "pygments_lexer": "ipython3",
   "version": "3.12.7"
  }
 },
 "nbformat": 4,
 "nbformat_minor": 5
}
