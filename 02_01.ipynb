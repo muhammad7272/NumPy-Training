{
 "cells": [
  {
   "cell_type": "code",
   "execution_count": 25,
   "id": "e2e50fb0-0508-4937-98d0-7672a41ee071",
   "metadata": {},
   "outputs": [],
   "source": [
    "import numpy as np"
   ]
  },
  {
   "cell_type": "code",
   "execution_count": 29,
   "id": "253892ad-12ab-41b0-bbc4-fefdbb325601",
   "metadata": {},
   "outputs": [],
   "source": [
    "integers=np.array([10,20,30,40,50])"
   ]
  },
  {
   "cell_type": "code",
   "execution_count": 31,
   "id": "11603840-d334-497d-9912-00d4188a1534",
   "metadata": {},
   "outputs": [
    {
     "data": {
      "text/plain": [
       "10"
      ]
     },
     "execution_count": 31,
     "metadata": {},
     "output_type": "execute_result"
    }
   ],
   "source": [
    "integers[0]"
   ]
  },
  {
   "cell_type": "code",
   "execution_count": 33,
   "id": "c67e33fd-de89-4221-9c10-9200973ecdc5",
   "metadata": {},
   "outputs": [
    {
     "data": {
      "text/plain": [
       "50"
      ]
     },
     "execution_count": 33,
     "metadata": {},
     "output_type": "execute_result"
    }
   ],
   "source": [
    "integers[-1]"
   ]
  },
  {
   "cell_type": "code",
   "execution_count": 35,
   "id": "a026125e-1519-44f1-b2c4-9c71532a7208",
   "metadata": {},
   "outputs": [
    {
     "name": "stdout",
     "output_type": "stream",
     "text": [
      "[20 20 30 40 50]\n"
     ]
    }
   ],
   "source": [
    "integers[0]=20\n",
    "print(integers)"
   ]
  },
  {
   "cell_type": "code",
   "execution_count": 37,
   "id": "10b92646-8a4d-4550-b186-b63741433a59",
   "metadata": {},
   "outputs": [
    {
     "name": "stdout",
     "output_type": "stream",
     "text": [
      "[21 20 30 40 50]\n"
     ]
    }
   ],
   "source": [
    "integers[0]=21.5\n",
    "print(integers)"
   ]
  },
  {
   "cell_type": "code",
   "execution_count": 39,
   "id": "cfc831b1-2c2a-4e14-9ee9-1720bc632a09",
   "metadata": {},
   "outputs": [
    {
     "data": {
      "text/plain": [
       "dtype('int32')"
      ]
     },
     "execution_count": 39,
     "metadata": {},
     "output_type": "execute_result"
    }
   ],
   "source": [
    "integers.dtype"
   ]
  },
  {
   "cell_type": "code",
   "execution_count": 45,
   "id": "8b0c3f7b-9d19-4fce-a50c-08330b0a0071",
   "metadata": {},
   "outputs": [
    {
     "data": {
      "text/plain": [
       "array([21, 20, 30, 40, 50], dtype=int8)"
      ]
     },
     "execution_count": 45,
     "metadata": {},
     "output_type": "execute_result"
    }
   ],
   "source": [
    "smallerintegers=np.array(integers,dtype=np.int8)\n",
    "smallerintegers"
   ]
  },
  {
   "cell_type": "code",
   "execution_count": 49,
   "id": "3213ca5e-5f3c-4f67-a2da-994ff9d57984",
   "metadata": {},
   "outputs": [
    {
     "ename": "NameError",
     "evalue": "name 'intergers' is not defined",
     "output_type": "error",
     "traceback": [
      "\u001b[1;31m---------------------------------------------------------------------------\u001b[0m",
      "\u001b[1;31mNameError\u001b[0m                                 Traceback (most recent call last)",
      "Cell \u001b[1;32mIn[49], line 1\u001b[0m\n\u001b[1;32m----> 1\u001b[0m intergers\u001b[38;5;241m.\u001b[39mnbytes\n",
      "\u001b[1;31mNameError\u001b[0m: name 'intergers' is not defined"
     ]
    }
   ],
   "source": [
    "intergers.nbytes"
   ]
  },
  {
   "cell_type": "code",
   "execution_count": 51,
   "id": "4d272ce5-328d-4795-9d58-657c8712b723",
   "metadata": {},
   "outputs": [
    {
     "data": {
      "text/plain": [
       "5"
      ]
     },
     "execution_count": 51,
     "metadata": {},
     "output_type": "execute_result"
    }
   ],
   "source": [
    "smallerintegers.nbytes"
   ]
  },
  {
   "cell_type": "code",
   "execution_count": 53,
   "id": "fdff540a-806b-4db6-8849-efe9aab4d9c4",
   "metadata": {},
   "outputs": [
    {
     "name": "stdout",
     "output_type": "stream",
     "text": [
      "[1.2 2.3 3.4 5.1 8.3]\n"
     ]
    }
   ],
   "source": [
    "floats=np.array([1.2,2.3,3.4,5.1,8.3])\n",
    "print(floats)"
   ]
  },
  {
   "cell_type": "code",
   "execution_count": 55,
   "id": "d9bd40cf-7235-4bec-bc03-d951dc0b2b1c",
   "metadata": {},
   "outputs": [
    {
     "data": {
      "text/plain": [
       "dtype('float64')"
      ]
     },
     "execution_count": 55,
     "metadata": {},
     "output_type": "execute_result"
    }
   ],
   "source": [
    "floats.dtype"
   ]
  }
 ],
 "metadata": {
  "kernelspec": {
   "display_name": "Python [conda env:base] *",
   "language": "python",
   "name": "conda-base-py"
  },
  "language_info": {
   "codemirror_mode": {
    "name": "ipython",
    "version": 3
   },
   "file_extension": ".py",
   "mimetype": "text/x-python",
   "name": "python",
   "nbconvert_exporter": "python",
   "pygments_lexer": "ipython3",
   "version": "3.12.7"
  }
 },
 "nbformat": 4,
 "nbformat_minor": 5
}
